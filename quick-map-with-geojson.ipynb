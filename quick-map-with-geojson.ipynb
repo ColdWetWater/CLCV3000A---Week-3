{
 "cells": [
  {
   "cell_type": "markdown",
   "id": "5f8a25c2-d363-4d42-8767-009b2de3be84",
   "metadata": {},
   "source": [
    "Because we installed a package called 'jupyter-geojson' when we first set up the labbench, this environment knows how to visualize a file type called 'geojson'. Geojson lists all of the spatial features of a map as a list of data points. Go to [geojson.io](https://geojson.io) and find your graveyard. Use the polygon drawing features to draw the boundaries of your graveyard. Then, use the point feature to mark each gravestone. Double-click on a point to add metadata about your gravestone, eg `id`:`mfc1` and so on. Notice in geojson.io you can see your data as you create it under the 'json' tab. Copy all of that data from the { to the }, and place it between the ( and ) in the cell below. Then run the cell!"
   ]
  },
  {
   "cell_type": "code",
   "execution_count": 1,
   "id": "8f18325d-d31a-45b7-b487-029eddb2930a",
   "metadata": {},
   "outputs": [
    {
     "data": {
      "application/geo+json": {
       "features": [
        {
         "geometry": {
          "coordinates": [
           [
            [
             -76.03060360990628,
             45.15797133730382
            ],
            [
             -76.03015705312555,
             45.15760973525755
            ],
            [
             -76.02972875062359,
             45.157888086460474
            ],
            [
             -76.03017677540473,
             45.15824030134195
            ],
            [
             -76.03060360990628,
             45.15797133730382
            ]
           ]
          ],
          "type": "Polygon"
         },
         "properties": {},
         "type": "Feature"
        }
       ],
       "type": "FeatureCollection"
      },
      "text/plain": [
       "<IPython.display.GeoJSON object>"
      ]
     },
     "metadata": {
      "application/geo+json": {
       "expanded": false,
       "root": "root"
      }
     },
     "output_type": "display_data"
    }
   ],
   "source": [
    "from IPython.display import GeoJSON\n",
    "GeoJSON(\n",
    "{\n",
    "  \"type\": \"FeatureCollection\",\n",
    "  \"features\": [\n",
    "    {\n",
    "      \"type\": \"Feature\",\n",
    "      \"properties\": {},\n",
    "      \"geometry\": {\n",
    "        \"coordinates\": [\n",
    "          [\n",
    "            [\n",
    "              -76.03060360990628,\n",
    "              45.15797133730382\n",
    "            ],\n",
    "            [\n",
    "              -76.03015705312555,\n",
    "              45.15760973525755\n",
    "            ],\n",
    "            [\n",
    "              -76.02972875062359,\n",
    "              45.157888086460474\n",
    "            ],\n",
    "            [\n",
    "              -76.03017677540473,\n",
    "              45.15824030134195\n",
    "            ],\n",
    "            [\n",
    "              -76.03060360990628,\n",
    "              45.15797133730382\n",
    "            ]\n",
    "          ]\n",
    "        ],\n",
    "        \"type\": \"Polygon\"\n",
    "      }\n",
    "    }\n",
    "  ]\n",
    "}\n",
    "    \n",
    ")"
   ]
  },
  {
   "cell_type": "markdown",
   "id": "b24a2f36-8771-4e4c-8c06-557fce6290ff",
   "metadata": {},
   "source": [
    "Notice also that you can save that data as a geojson file, and then in jupyterlab double-clicking the file in the file tray will open it as a new tab. Go click on `moodie.geojson` to see that in action.\n",
    "\n",
    "The code below will put the geojson_data data into a text file with the .geojson file extension; swap yours in. Then refresh the file tray at left and you'll see your materials."
   ]
  },
  {
   "cell_type": "code",
   "execution_count": 1,
   "id": "6fa93053-4d49-4e36-99bb-d7acf1f9ed7d",
   "metadata": {},
   "outputs": [],
   "source": [
    "## here's how we can write the data to .geojson for safekeeping:\n",
    "import json\n",
    "\n",
    "def write_geojson_to_file(geojson_data, filename):\n",
    "    \"\"\"\n",
    "    Write GeoJSON data to a file.\n",
    "    \n",
    "    Args:\n",
    "        geojson_data (dict): The GeoJSON data structure\n",
    "        filename (str): Output filename (should end with .geojson or .json)\n",
    "    \"\"\"\n",
    "    with open(filename, 'w') as f:\n",
    "        json.dump(geojson_data, f, indent=2)\n",
    "\n",
    "# Example with the moodie cemetery data; notice that we start and finish with the { } this time, no ( ):\n",
    "geojson_data = {\n",
    "  \"type\": \"FeatureCollection\",\n",
    "  \"features\": [\n",
    "    {\n",
    "      \"type\": \"Feature\",\n",
    "      \"properties\": {},\n",
    "      \"geometry\": {\n",
    "        \"coordinates\": [\n",
    "          [\n",
    "            [\n",
    "              -76.03060360990628,\n",
    "              45.15797133730382\n",
    "            ],\n",
    "            [\n",
    "              -76.03015705312555,\n",
    "              45.15760973525755\n",
    "            ],\n",
    "            [\n",
    "              -76.02972875062359,\n",
    "              45.157888086460474\n",
    "            ],\n",
    "            [\n",
    "              -76.03017677540473,\n",
    "              45.15824030134195\n",
    "            ],\n",
    "            [\n",
    "              -76.03060360990628,\n",
    "              45.15797133730382\n",
    "            ]\n",
    "          ]\n",
    "        ],\n",
    "        \"type\": \"Polygon\"\n",
    "      }\n",
    "    }\n",
    "  ]\n",
    "}\n",
    "\n",
    "# Write to file\n",
    "write_geojson_to_file(geojson_data, \"my-map.geojson\")"
   ]
  },
  {
   "cell_type": "code",
   "execution_count": null,
   "id": "ddfcf267-eff8-4385-837c-d8a0de2fceab",
   "metadata": {},
   "outputs": [],
   "source": []
  }
 ],
 "metadata": {
  "kernelspec": {
   "display_name": "Python 3 (ipykernel)",
   "language": "python",
   "name": "python3"
  },
  "language_info": {
   "codemirror_mode": {
    "name": "ipython",
    "version": 3
   },
   "file_extension": ".py",
   "mimetype": "text/x-python",
   "name": "python",
   "nbconvert_exporter": "python",
   "pygments_lexer": "ipython3",
   "version": "3.12.5"
  }
 },
 "nbformat": 4,
 "nbformat_minor": 5
}
